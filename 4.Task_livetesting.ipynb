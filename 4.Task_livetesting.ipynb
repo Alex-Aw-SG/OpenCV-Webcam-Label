{
 "cells": [
  {
   "cell_type": "markdown",
   "metadata": {},
   "source": [
    "## Task 4 - Live Testing"
   ]
  },
  {
   "cell_type": "code",
   "execution_count": 1,
   "metadata": {},
   "outputs": [],
   "source": [
    "import numpy as np\n",
    "import os\n",
    "import cv2\n",
    "\n",
    "face_recognizer = cv2.face.LBPHFaceRecognizer_create()\n",
    "face_recognizer.read('training.yml')\n",
    "\n",
    "## training the dataset and save training.yml\n",
    "## Using img_gray_func and function training_data from Task 1 & 2"
   ]
  },
  {
   "cell_type": "code",
   "execution_count": 2,
   "metadata": {},
   "outputs": [],
   "source": [
    "## recognise faces, draw rectangle and convert to gray img\n",
    "\n",
    "def img_gray_func(img): \n",
    "    gray = cv2.cvtColor(img,cv2.COLOR_BGR2GRAY)\n",
    "\n",
    "    face_cascade = cv2.CascadeClassifier(\"classifier/haarcascade_frontalface_default.xml\")\n",
    "\n",
    "    faces_rect = face_cascade.detectMultiScale(gray, 1.10, 5)\n",
    "    \n",
    "    return  faces_rect, gray"
   ]
  },
  {
   "cell_type": "code",
   "execution_count": 3,
   "metadata": {},
   "outputs": [],
   "source": [
    "#draw rectangle on face\n",
    "\n",
    "def draw_box_func(img_load, faces_rect):\n",
    "    (x,y,w,h) = faces_rect\n",
    "    cv2.rectangle(img_load, (x,y), (x+w,y+h), (255,255,255), 2)"
   ]
  },
  {
   "cell_type": "code",
   "execution_count": 4,
   "metadata": {},
   "outputs": [],
   "source": [
    "#put text on image\n",
    "\n",
    "def put_txt_func(img, text, x, y):\n",
    "    cv2.putText(img, text, (x, y), cv2.FONT_HERSHEY_PLAIN, 1.5, (255, 255, 255), 2)"
   ]
  },
  {
   "cell_type": "code",
   "execution_count": 5,
   "metadata": {},
   "outputs": [],
   "source": [
    "video_capture = cv2.VideoCapture(1)\n",
    "\n",
    "while True:\n",
    "    ret, frame = video_capture.read()\n",
    "    \n",
    "    # recognise faces, draw rectangle and convert to gray img\n",
    "    faces_rect, gray = img_gray_func(frame)\n",
    "  \n",
    "    subjects = {0:\"Obama\", 1:\"Jack\", 2:\"Elon\", 3:\"Handsome\"}\n",
    "    \n",
    "    for face in faces_rect:\n",
    "        (x,y,w,h) = face\n",
    "        GrayImage = gray[y:y+w, x:x+h]        \n",
    "        label, confidence = face_recognizer.predict(GrayImage)\n",
    "        \n",
    "        draw_box_func(frame,face)\n",
    "        predicted_name = subjects[label]\n",
    "        \n",
    "        if confidence < 40:\n",
    "            continue\n",
    "        \n",
    "        else:\n",
    "            put_txt_func(frame,predicted_name, x, y)\n",
    "            \n",
    "    cv2.imshow('Video_Capture', frame)\n",
    "    \n",
    "    #Press Q to break\n",
    "    if cv2.waitKey(1) & 0xFF == ord('q'):\n",
    "        break\n",
    "        \n",
    "video_capture.release()\n",
    "cv2.destroyAllWindows()\n"
   ]
  },
  {
   "cell_type": "code",
   "execution_count": null,
   "metadata": {},
   "outputs": [],
   "source": []
  }
 ],
 "metadata": {
  "kernelspec": {
   "display_name": "Python 3 (ipykernel)",
   "language": "python",
   "name": "python3"
  },
  "language_info": {
   "codemirror_mode": {
    "name": "ipython",
    "version": 3
   },
   "file_extension": ".py",
   "mimetype": "text/x-python",
   "name": "python",
   "nbconvert_exporter": "python",
   "pygments_lexer": "ipython3",
   "version": "3.8.10"
  }
 },
 "nbformat": 4,
 "nbformat_minor": 4
}
