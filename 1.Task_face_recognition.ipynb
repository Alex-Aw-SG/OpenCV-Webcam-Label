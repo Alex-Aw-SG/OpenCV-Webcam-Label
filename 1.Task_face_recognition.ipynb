{
 "cells": [
  {
   "cell_type": "markdown",
   "metadata": {},
   "source": [
    "## Task 1 - Face Recognition"
   ]
  },
  {
   "cell_type": "code",
   "execution_count": 1,
   "metadata": {},
   "outputs": [],
   "source": [
    "import numpy as np\n",
    "import os\n",
    "import cv2"
   ]
  },
  {
   "cell_type": "code",
   "execution_count": 2,
   "metadata": {},
   "outputs": [],
   "source": [
    "## detect faces and convert to gray \n",
    "\n",
    "def img_gray_func(img):\n",
    "    gray = cv2.cvtColor(img,cv2.COLOR_BGR2GRAY)\n",
    "    face_cascade = cv2.CascadeClassifier(\"classifier/haarcascade_frontalface_default.xml\")\n",
    "    faces_rect = face_cascade.detectMultiScale(gray, 1.10, 5)\n",
    "    \n",
    "    return  faces_rect, gray"
   ]
  },
  {
   "cell_type": "code",
   "execution_count": 3,
   "metadata": {},
   "outputs": [],
   "source": [
    "\n",
    "def faces_label_func(img, name):\n",
    "    faces = []\n",
    "    labels = []\n",
    "\n",
    "    faces.append(img)\n",
    "    labels.append(name)\n",
    "\n",
    "    return faces, labels"
   ]
  },
  {
   "cell_type": "code",
   "execution_count": 4,
   "metadata": {},
   "outputs": [],
   "source": [
    "\n",
    "def LBPH_algor(faces, labels):\n",
    "    face_recognizer = cv2.face.LBPHFaceRecognizer_create()\n",
    "\n",
    "    face_recognizer.train(faces, np.array(labels))\n",
    "    \n",
    "    return FaceRecogniser\n"
   ]
  },
  {
   "cell_type": "code",
   "execution_count": 5,
   "metadata": {},
   "outputs": [],
   "source": [
    "## draw box on img function\n",
    "\n",
    "def draw_box_func(img_load, faces_rect):\n",
    "    for (x,y,w,h) in faces_rect:\n",
    "        cv2.rectangle(img_load, (x,y), (x+w,y+h), (255,255,255), 2)\n"
   ]
  },
  {
   "cell_type": "code",
   "execution_count": 6,
   "metadata": {},
   "outputs": [],
   "source": [
    "## help(cv2.putText)\n",
    "## putting text on img function\n",
    "\n",
    "def put_txt_func(img_load, text):\n",
    "    cv2.putText(img_load, text, (5,20), cv2.FONT_HERSHEY_SIMPLEX, 0.8, (255,255,255), 2)\n"
   ]
  },
  {
   "cell_type": "code",
   "execution_count": 7,
   "metadata": {},
   "outputs": [],
   "source": [
    "#  Create function writes name of person for detected label\n",
    "\n",
    "def label_name():\n",
    "    name = {1:\"Obama\", 2:\"Jack\", 3:\"Elon\", 4:\"Handsome\"}\n",
    "    \n",
    "    return name\n"
   ]
  },
  {
   "cell_type": "code",
   "execution_count": 8,
   "metadata": {},
   "outputs": [],
   "source": [
    "## testing functions ##\n",
    "\n",
    "## Load images\n",
    "img = cv2.imread(\"testing_image.jpg\")\n",
    "\n",
    "## Call img gray func\n",
    "faces_rect, gray = img_gray_func(img)\n",
    "\n",
    "## Call draw box func\n",
    "draw_box_func(gray, faces_rect)\n",
    "\n",
    "## Call put txt func\n",
    "put_txt_func(gray, 'Testing')\n",
    "\n",
    "#list and append\n",
    "name = (\"Obama\", \"Jack\", \"Elon\", \"Handsome\")\n",
    "faces_label_func(gray, name)\n",
    "\n",
    "cv2.imshow(\"Image\", gray)\n",
    "\n",
    "cv2.waitKey(0)\n",
    "cv2.destroyAllWindows()"
   ]
  }
 ],
 "metadata": {
  "kernelspec": {
   "display_name": "Python 3 (ipykernel)",
   "language": "python",
   "name": "python3"
  },
  "language_info": {
   "codemirror_mode": {
    "name": "ipython",
    "version": 3
   },
   "file_extension": ".py",
   "mimetype": "text/x-python",
   "name": "python",
   "nbconvert_exporter": "python",
   "pygments_lexer": "ipython3",
   "version": "3.8.10"
  }
 },
 "nbformat": 4,
 "nbformat_minor": 4
}
