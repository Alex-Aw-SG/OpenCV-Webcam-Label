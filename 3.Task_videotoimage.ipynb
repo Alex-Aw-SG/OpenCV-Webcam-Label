{
 "cells": [
  {
   "cell_type": "markdown",
   "metadata": {},
   "source": [
    "## Task 3 - Video to Image"
   ]
  },
  {
   "cell_type": "code",
   "execution_count": 1,
   "metadata": {},
   "outputs": [],
   "source": [
    "import cv2\n",
    "import os"
   ]
  },
  {
   "cell_type": "code",
   "execution_count": 2,
   "metadata": {},
   "outputs": [],
   "source": [
    "\n",
    "def vidtoimg(video,interval):\n",
    "    # camera index 0 for back 1 for front\n",
    "    cap=cv2.VideoCapture(1)\n",
    "    count=1\n",
    "    while True:\n",
    "        # Initiallize the capturing sequence\n",
    "        ret, cap_img = cap.read()\n",
    "\n",
    "        # Show the cam frames\n",
    "        cv2.imshow(\"Frame\",cap_img)\n",
    "        # capture the images with counting numbers\n",
    "        cv2.imwrite(r\"..\\vid_output\\\\\"+str(count)+\".jpg\", cap_img)\n",
    "        count += 1\n",
    "        \n",
    "        #break with SPACEBAR\n",
    "        if cv2.waitKey(int(interval)) == ord(' '):\n",
    "            break\n",
    "            \n",
    "    cap.release()\n",
    "    cv2.destroyAllWindows()\n",
    "\n",
    "# Run the function capture with timing of 100 millisecond \n",
    "vidtoimg(0,100)"
   ]
  },
  {
   "cell_type": "code",
   "execution_count": null,
   "metadata": {},
   "outputs": [],
   "source": []
  }
 ],
 "metadata": {
  "kernelspec": {
   "display_name": "Python 3 (ipykernel)",
   "language": "python",
   "name": "python3"
  },
  "language_info": {
   "codemirror_mode": {
    "name": "ipython",
    "version": 3
   },
   "file_extension": ".py",
   "mimetype": "text/x-python",
   "name": "python",
   "nbconvert_exporter": "python",
   "pygments_lexer": "ipython3",
   "version": "3.8.10"
  }
 },
 "nbformat": 4,
 "nbformat_minor": 4
}
